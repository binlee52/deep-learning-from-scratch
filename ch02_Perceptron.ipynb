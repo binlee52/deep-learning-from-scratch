{
  "nbformat": 4,
  "nbformat_minor": 0,
  "metadata": {
    "colab": {
      "name": "ch02_Perceptron.ipynb",
      "provenance": [],
      "collapsed_sections": [],
      "mount_file_id": "1jwQqf0f1uhStU4jmcEaum4uBpRb375lU",
      "authorship_tag": "ABX9TyPEIHxPDxejnUYm+qTErji1",
      "include_colab_link": true
    },
    "kernelspec": {
      "name": "python3",
      "display_name": "Python 3"
    }
  },
  "cells": [
    {
      "cell_type": "markdown",
      "metadata": {
        "id": "view-in-github",
        "colab_type": "text"
      },
      "source": [
        "<a href=\"https://colab.research.google.com/github/binlee52/deep-learning-from-scratch/blob/master/ch02_Perceptron.ipynb\" target=\"_parent\"><img src=\"https://colab.research.google.com/assets/colab-badge.svg\" alt=\"Open In Colab\"/></a>"
      ]
    },
    {
      "cell_type": "markdown",
      "metadata": {
        "id": "tcvmb1-SavMc",
        "colab_type": "text"
      },
      "source": [
        "# Perceptron\n",
        "퍼셉트론은 층을 거듭 쌓으면 비선형적인 표현이 가능하고, 이론상 컴퓨터가 수행하는 처리를 모두 표현한다.\n",
        "\n",
        "\n",
        "\n",
        "*    퍼셉트론은 입출력을 갖춘 알고리즘이다. 입력을 주면 정해진 규칙에 따른 값을 출력한다.\n",
        "*   퍼셉트론에서는 '가중치(weight)'와 '편향(bias)'을 매개변수로 설정한다.\n",
        "*   퍼셉트론으로는 AND, OR GATE 등의 논리 회로를 표현할 수 있다.\n",
        "*   XOR GATE는 단층 퍼셉트론으로는 표현할 수 없다.\n",
        "*   2층 퍼셉트론을 이용하면 XOR GATE를 표현할 수 있다.\n",
        "*   단층 퍼셉트론은 직선형 영역만 표현할 수 있고, 다층 퍼셉트론은 비선형 영역도 표현할 수 있다.\n",
        "*   다층 퍼셉트론은 (이론상) 컴퓨터를 표현할 수 있다.\n",
        "\n",
        "\n",
        "\n",
        "\n",
        "\n"
      ]
    },
    {
      "cell_type": "code",
      "metadata": {
        "id": "NQkfeon1Tz4N",
        "colab_type": "code",
        "colab": {}
      },
      "source": [
        "# AND GATE\n",
        "def AND(x1, x2):\n",
        "    w1, w2, theta = 0.5, 0.5, 0.7\n",
        "    tmp = x1*w1 + x2*w2\n",
        "    if tmp <= theta:\n",
        "        return 0\n",
        "    elif tmp > theta:\n",
        "        return 1"
      ],
      "execution_count": 1,
      "outputs": []
    },
    {
      "cell_type": "code",
      "metadata": {
        "id": "237UhG-bWoID",
        "colab_type": "code",
        "colab": {
          "base_uri": "https://localhost:8080/",
          "height": 84
        },
        "outputId": "011bb7e6-d528-415f-8163-bfc0294db066"
      },
      "source": [
        "print(AND(0, 0))\n",
        "print(AND(1, 0))\n",
        "print(AND(0, 1))\n",
        "print(AND(1, 1))"
      ],
      "execution_count": 2,
      "outputs": [
        {
          "output_type": "stream",
          "text": [
            "0\n",
            "0\n",
            "0\n",
            "1\n"
          ],
          "name": "stdout"
        }
      ]
    },
    {
      "cell_type": "code",
      "metadata": {
        "id": "GuSBgXsYWraR",
        "colab_type": "code",
        "colab": {
          "base_uri": "https://localhost:8080/",
          "height": 34
        },
        "outputId": "c3843a07-e3ea-48b1-9055-403cce7eb95c"
      },
      "source": [
        "import numpy as np\n",
        "x = np.array([0, 1])        # input\n",
        "w = np.array([0.5, 0.5])    # weight\n",
        "b = -0.7                    # bias\n",
        "w * x"
      ],
      "execution_count": 3,
      "outputs": [
        {
          "output_type": "execute_result",
          "data": {
            "text/plain": [
              "array([0. , 0.5])"
            ]
          },
          "metadata": {
            "tags": []
          },
          "execution_count": 3
        }
      ]
    },
    {
      "cell_type": "code",
      "metadata": {
        "id": "4dOV169xXkWk",
        "colab_type": "code",
        "colab": {
          "base_uri": "https://localhost:8080/",
          "height": 34
        },
        "outputId": "b64d4517-8d71-4946-da8c-d72a33c5787d"
      },
      "source": [
        "np.sum(w*x)"
      ],
      "execution_count": 4,
      "outputs": [
        {
          "output_type": "execute_result",
          "data": {
            "text/plain": [
              "0.5"
            ]
          },
          "metadata": {
            "tags": []
          },
          "execution_count": 4
        }
      ]
    },
    {
      "cell_type": "code",
      "metadata": {
        "id": "aBqgtseHXeGa",
        "colab_type": "code",
        "colab": {
          "base_uri": "https://localhost:8080/",
          "height": 34
        },
        "outputId": "cb4672f9-dff2-481b-f677-846ac05462f9"
      },
      "source": [
        "np.sum(w*x) + b"
      ],
      "execution_count": 5,
      "outputs": [
        {
          "output_type": "execute_result",
          "data": {
            "text/plain": [
              "-0.19999999999999996"
            ]
          },
          "metadata": {
            "tags": []
          },
          "execution_count": 5
        }
      ]
    },
    {
      "cell_type": "code",
      "metadata": {
        "id": "EalsRfkUX9hQ",
        "colab_type": "code",
        "colab": {}
      },
      "source": [
        "# AND GATE\n",
        "def AND(x1, x2):\n",
        "    x = np.array([x1, x2])      # input : 입력 신호\n",
        "    w = np.array([0.5, 0.5])    # weight : 입력 신호가 결과에 주는 영향력(중요도)을 결정\n",
        "    b = -0.7                    # bias : 뉴런이 얼마나 쉽게 활성화 되는지 결정\n",
        "    tmp = np.sum(w*x) + b\n",
        "    if tmp <= 0:\n",
        "        return 0\n",
        "    else:\n",
        "        return 1"
      ],
      "execution_count": 6,
      "outputs": []
    },
    {
      "cell_type": "code",
      "metadata": {
        "id": "pryehIY1YMfh",
        "colab_type": "code",
        "colab": {}
      },
      "source": [
        "# NAND GATE\n",
        "def NAND(x1, x2):\n",
        "    # NAND GATE는 AND GATE의 weight, bias의 부호를 바꾼 것\n",
        "    x = np.array([x1, x2])          # input : 입력 신호\n",
        "    w = np.array([-0.5, -0.5])      # weight : 입력 신호가 결과에 주는 영향력(중요도)을 결정\n",
        "    b = 0.7                         # bias : 뉴런이 얼마나 쉽게 활성화 되는지 결정\n",
        "    tmp = np.sum(w*x) + b\n",
        "    if tmp <= 0:\n",
        "        return 0\n",
        "    else:\n",
        "        return 1"
      ],
      "execution_count": 7,
      "outputs": []
    },
    {
      "cell_type": "code",
      "metadata": {
        "id": "LZAgsNkdYwYZ",
        "colab_type": "code",
        "colab": {}
      },
      "source": [
        "# OR GATE\n",
        "def OR(x1, x2):\n",
        "    x = np.array([x1, x2])      # input : 입력 신호\n",
        "    w = np.array([0.5, 0.5])    # weight : 입력 신호가 결과에 주는 영향력(중요도)을 결정\n",
        "    b = -0.2                    # bias : 뉴런이 얼마나 쉽게 활성화 되는지 결정\n",
        "    tmp = np.sum(w*x) + b\n",
        "    if tmp <= 0:\n",
        "        return 0\n",
        "    else:\n",
        "        return 1"
      ],
      "execution_count": 8,
      "outputs": []
    },
    {
      "cell_type": "code",
      "metadata": {
        "id": "dFU2Aa50Y-DB",
        "colab_type": "code",
        "colab": {}
      },
      "source": [
        "# XOR GATE\n",
        "def XOR(x1, x2):\n",
        "    # XOR GATE = (NAND GATE + OR GATE) * AND GATE\n",
        "    s1 = NAND(x1, x2)\n",
        "    s2 = OR(x1, x2)\n",
        "    y = AND(s1, s2)\n",
        "    return y"
      ],
      "execution_count": 9,
      "outputs": []
    },
    {
      "cell_type": "code",
      "metadata": {
        "id": "mexLK7ppZmDC",
        "colab_type": "code",
        "colab": {
          "base_uri": "https://localhost:8080/",
          "height": 84
        },
        "outputId": "4af0ef2a-69ea-46cd-be87-f076860bea22"
      },
      "source": [
        "print(XOR(0, 0))\n",
        "print(XOR(1, 0))\n",
        "print(XOR(0, 1))\n",
        "print(XOR(1, 1))"
      ],
      "execution_count": 10,
      "outputs": [
        {
          "output_type": "stream",
          "text": [
            "0\n",
            "1\n",
            "1\n",
            "0\n"
          ],
          "name": "stdout"
        }
      ]
    }
  ]
}